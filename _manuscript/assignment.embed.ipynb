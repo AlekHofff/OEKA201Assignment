{
 "cells": [
  {
   "cell_type": "markdown",
   "metadata": {},
   "source": [
    "# Assignment\n",
    "\n",
    "# Introduction\n",
    "\n",
    "“Abc” “1234” “Abc” “1234”\n",
    "\n",
    "# Conclusions\n",
    "\n",
    "“Abc” “1234”"
   ],
   "id": "044c94a9-83eb-4bb8-ab23-ebf88e7c16fb"
  }
 ],
 "nbformat": 4,
 "nbformat_minor": 5,
 "metadata": {}
}
