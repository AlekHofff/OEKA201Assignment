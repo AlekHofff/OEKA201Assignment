{
 "cells": [
  {
   "cell_type": "markdown",
   "metadata": {},
   "source": [
    "#"
   ],
   "id": "34a01f2c-92bc-4e7e-bb5f-50d19c8e3738"
  }
 ],
 "nbformat": 4,
 "nbformat_minor": 5,
 "metadata": {}
}
