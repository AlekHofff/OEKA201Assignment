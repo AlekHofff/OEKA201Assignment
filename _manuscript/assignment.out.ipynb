{
 "cells": [
  {
   "cell_type": "markdown",
   "metadata": {},
   "source": [
    "# Assignment\n",
    "\n",
    "# Introduction\n",
    "\n",
    "# Conclusions\n",
    "\n",
    "# References"
   ],
   "id": "e6be6405-4bf7-467f-9f25-0b78758820c9"
  }
 ],
 "nbformat": 4,
 "nbformat_minor": 5,
 "metadata": {}
}
